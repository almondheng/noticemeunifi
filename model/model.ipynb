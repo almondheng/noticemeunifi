{
 "cells": [
  {
   "cell_type": "code",
   "execution_count": 1,
   "metadata": {},
   "outputs": [
    {
     "name": "stderr",
     "output_type": "stream",
     "text": [
      "c:\\users\\user\\anaconda3\\envs\\socionion\\lib\\site-packages\\nltk\\decorators.py:68: DeprecationWarning: `formatargspec` is deprecated since Python 3.5. Use `signature` and the `Signature` object directly\n",
      "  regargs, varargs, varkwargs, defaults, formatvalue=lambda value: \"\"\n"
     ]
    },
    {
     "data": {
      "text/plain": [
       "(713, 31)"
      ]
     },
     "execution_count": 1,
     "metadata": {},
     "output_type": "execute_result"
    }
   ],
   "source": [
    "import pandas as pd\n",
    "import numpy as np\n",
    "import malaya\n",
    "import pyLDAvis\n",
    "from textblob import TextBlob\n",
    "\n",
    "# import dataset\n",
    "df = pd.read_csv('tweet_concat.csv')\n",
    "#list(df)\n",
    "df.shape"
   ]
  },
  {
   "cell_type": "code",
   "execution_count": 2,
   "metadata": {},
   "outputs": [],
   "source": [
    "# features extraction\n",
    "features = ['created_at','id','user','full_text']\n",
    "data = df[features]\n",
    "data.full_text = data.full_text.astype('str')\n",
    "text = data.full_text\n",
    "text_list = text.values.tolist() # model requires list as input"
   ]
  },
  {
   "cell_type": "code",
   "execution_count": 3,
   "metadata": {},
   "outputs": [
    {
     "data": {
      "text/plain": [
       "ENGLISH      331\n",
       "OTHER        216\n",
       "MALAY        160\n",
       "INDONESIA      6\n",
       "Name: lang, dtype: int64"
      ]
     },
     "execution_count": 3,
     "metadata": {},
     "output_type": "execute_result"
    }
   ],
   "source": [
    "# language detection\n",
    "mn_lang = malaya.language_detection.multinomial()\n",
    "lang = mn_lang.predict_batch(text_list)\n",
    "\n",
    "# add lang column\n",
    "data['lang'] = lang\n",
    "data.lang.value_counts() # ISSUE: model interprets malay as other"
   ]
  },
  {
   "cell_type": "code",
   "execution_count": 4,
   "metadata": {},
   "outputs": [],
   "source": [
    "# separate into english and malay\n",
    "english = data[data['lang'] == 'ENGLISH']\n",
    "english_text = english[['full_text']]\n",
    "english_text_list = english_text.full_text.values.tolist() # model requires list as input\n",
    "\n",
    "# other and indonesia mostly consist of malay based on observation\n",
    "malay = data[data['lang'] != 'ENGLISH']\n",
    "malay_text = malay[['full_text']]\n",
    "malay_text_list = malay_text.full_text.values.tolist() # model requires list as input"
   ]
  },
  {
   "cell_type": "code",
   "execution_count": 5,
   "metadata": {},
   "outputs": [
    {
     "data": {
      "text/plain": [
       "positive    135\n",
       "neutral     123\n",
       "negative     73\n",
       "Name: sentiment, dtype: int64"
      ]
     },
     "execution_count": 5,
     "metadata": {},
     "output_type": "execute_result"
    }
   ],
   "source": [
    "# sentiment analysis and subjectivity analysis for english\n",
    "english_sentiment = []\n",
    "english_subjectivity = []\n",
    "\n",
    "for tweet in english_text_list:\n",
    "    blob = TextBlob(tweet)\n",
    "    analysis = blob.sentiment\n",
    "    sentiment = analysis[0]\n",
    "    subject = analysis[1]\n",
    "    # scale of -1 to 1\n",
    "    if sentiment>0:\n",
    "        english_sentiment.append('positive')\n",
    "    elif sentiment<0:\n",
    "        english_sentiment.append('negative')\n",
    "    else:\n",
    "        english_sentiment.append('neutral')\n",
    "    # scale of 0 to 1\n",
    "    if subject>0.6:\n",
    "        english_subjectivity.append('subjective')\n",
    "    elif subject<0.4:\n",
    "        english_subjectivity.append('objective')\n",
    "    else:\n",
    "        english_subjectivity.append('mixed')\n",
    "    \n",
    "# add sentiment and subjectivity column\n",
    "english['sentiment'] = english_sentiment\n",
    "english['subjectivity'] = english_subjectivity\n",
    "english.sentiment.value_counts()"
   ]
  },
  {
   "cell_type": "code",
   "execution_count": 6,
   "metadata": {},
   "outputs": [
    {
     "data": {
      "text/plain": [
       "objective     172\n",
       "mixed          88\n",
       "subjective     71\n",
       "Name: subjectivity, dtype: int64"
      ]
     },
     "execution_count": 6,
     "metadata": {},
     "output_type": "execute_result"
    }
   ],
   "source": [
    "english.subjectivity.value_counts()"
   ]
  },
  {
   "cell_type": "code",
   "execution_count": 10,
   "metadata": {},
   "outputs": [
    {
     "data": {
      "text/plain": [
       "positive    222\n",
       "negative    115\n",
       "neutral      45\n",
       "Name: sentiment, dtype: int64"
      ]
     },
     "execution_count": 10,
     "metadata": {},
     "output_type": "execute_result"
    }
   ],
   "source": [
    "my_sentiment = []\n",
    "my_subjective = []\n",
    "# sentiment analysis for malay\n",
    "malay_sentiment_xgb = malaya.sentiment.xgb()\n",
    "malay_sentiment = malay_sentiment_xgb.predict_batch(malay_text_list, get_proba=True) # get_proba=True\n",
    "\n",
    "# create list of sentiments(positive/negative/neutral)\n",
    "for item in malay_sentiment:\n",
    "    if item['negative'] > 0.45 and item['negative'] < 0.55:\n",
    "        my_sentiment.append(\"neutral\")\n",
    "    elif item['negative'] > item['positive']:\n",
    "        my_sentiment.append(\"negative\")\n",
    "    else:\n",
    "        my_sentiment.append(\"positive\")\n",
    "\n",
    "# subjectivity analysis for malay\n",
    "malay_subjective_xgb = malaya.subjective.xgb()\n",
    "malay_subjective = malay_subjective_xgb.predict_batch(malay_text_list, get_proba=True)\n",
    "# create list of subjectivity(positive/negative/neutral)\n",
    "for item in malay_subjective:\n",
    "    if item['negative'] > 0.45 and item['negative'] < 0.55:\n",
    "        my_subjective.append(\"mixed\")\n",
    "    elif item['negative'] > item['positive']:\n",
    "        my_subjective.append(\"objective\")\n",
    "    else:\n",
    "        my_subjective.append(\"subjective\")\n",
    "        \n",
    "# add sentiment & subjective column\n",
    "malay['sentiment'] = my_sentiment\n",
    "malay['subjectivity'] = my_subjective\n",
    "malay.sentiment.value_counts()"
   ]
  },
  {
   "cell_type": "code",
   "execution_count": 8,
   "metadata": {},
   "outputs": [
    {
     "data": {
      "text/plain": [
       "Negative    280\n",
       "Positive     74\n",
       "Neutral      28\n",
       "Name: subjectivity, dtype: int64"
      ]
     },
     "execution_count": 8,
     "metadata": {},
     "output_type": "execute_result"
    }
   ],
   "source": [
    "malay.subjectivity.value_counts()"
   ]
  },
  {
   "cell_type": "code",
   "execution_count": 8,
   "metadata": {},
   "outputs": [],
   "source": [
    "# topic modeling for english\n",
    "stopwords_eng = ['i', 'me', 'my', 'myself', 'we', 'our', 'ours', 'ourselves', 'you', \"you're\", \"you've\", \"you'll\", \"you'd\", 'your', 'yours', 'yourself', 'yourselves', 'he', 'him', 'his', 'himself', 'she', \"she's\", 'her', 'hers', 'herself', 'it', \"it's\", 'its', 'itself', 'they', 'them', 'their', 'theirs', 'themselves', 'what', 'which', 'who', 'whom', 'this', 'that', \"that'll\", 'these', 'those', 'am', 'is', 'are', 'was', 'were', 'be', 'been', 'being', 'have', 'has', 'had', 'having', 'do', 'does', 'did', 'doing', 'a', 'an', 'the', 'and', 'but', 'if', 'or', 'because', 'as', 'until', 'while', 'of', 'at', 'by', 'for', 'with', 'about', 'against', 'between', 'into', 'through', 'during', 'before', 'after', 'above', 'below', 'to', 'from', 'up', 'down', 'in', 'out', 'on', 'off', 'over', 'under', 'again', 'further', 'then', 'once', 'here', 'there', 'when', 'where', 'why', 'how', 'all', 'any', 'both', 'each', 'few', 'more', 'most', 'other', 'some', 'such', 'no', 'nor', 'not', 'only', 'own', 'same', 'so', 'than', 'too', 'very', 's', 't', 'can', 'will', 'just', 'don', \"don't\", 'should', \"should've\", 'now', 'd', 'll', 'm', 'o', 're', 've', 'y', 'ain', 'aren', \"aren't\", 'couldn', \"couldn't\", 'didn', \"didn't\", 'doesn', \"doesn't\", 'hadn', \"hadn't\", 'hasn', \"hasn't\", 'haven', \"haven't\", 'isn', \"isn't\", 'ma', 'mightn', \"mightn't\", 'mustn', \"mustn't\", 'needn', \"needn't\", 'shan', \"shan't\", 'shouldn', \"shouldn't\", 'wasn', \"wasn't\", 'weren', \"weren't\", 'won', \"won't\", 'wouldn', \"wouldn't\"]\n",
    "english_lda = malaya.topic_model.lda(english_text_list,10,stemming=False,vectorizer='skip-gram',ngram=(1,4),skip=3,stop_words=stopwords_eng)"
   ]
  },
  {
   "cell_type": "code",
   "execution_count": null,
   "metadata": {
    "scrolled": true
   },
   "outputs": [
    {
     "name": "stdout",
     "output_type": "stream",
     "text": [
      "\n",
      "Note: if you're in the IPython notebook, pyLDAvis.show() is not the best command\n",
      "      to use. Consider using pyLDAvis.display(), or pyLDAvis.enable_notebook().\n",
      "      See more information at http://pyLDAvis.github.io/quickstart.html .\n",
      "\n",
      "You must interrupt the kernel to end this command\n",
      "\n",
      "Serving to http://127.0.0.1:8889/    [Ctrl-C to exit]\n"
     ]
    },
    {
     "name": "stderr",
     "output_type": "stream",
     "text": [
      "127.0.0.1 - - [17/Apr/2019 23:43:56] \"GET / HTTP/1.1\" 200 -\n",
      "127.0.0.1 - - [17/Apr/2019 23:43:56] \"GET /LDAvis.css HTTP/1.1\" 200 -\n",
      "127.0.0.1 - - [17/Apr/2019 23:43:56] \"GET /d3.js HTTP/1.1\" 200 -\n",
      "127.0.0.1 - - [17/Apr/2019 23:43:56] \"GET /LDAvis.js HTTP/1.1\" 200 -\n"
     ]
    },
    {
     "name": "stdout",
     "output_type": "stream",
     "text": [
      "\n",
      "stopping Server...\n"
     ]
    }
   ],
   "source": [
    "# return embeded visualization data\n",
    "english_vis = english_lda.visualize_topics(notebook_mode = False)"
   ]
  },
  {
   "cell_type": "code",
   "execution_count": null,
   "metadata": {},
   "outputs": [],
   "source": [
    "# top 10 english topics\n",
    "english_topics = english_lda.top_topics(5, top_n=10, return_df=True)"
   ]
  },
  {
   "cell_type": "code",
   "execution_count": null,
   "metadata": {
    "scrolled": true
   },
   "outputs": [],
   "source": [
    "# topic modeling for malay\n",
    "malay_lda = malaya.topic_model.lda(malay_text_list,10,stemming=False,vectorizer='skip-gram',ngram=(1,4),skip=3)"
   ]
  },
  {
   "cell_type": "code",
   "execution_count": null,
   "metadata": {
    "scrolled": true
   },
   "outputs": [],
   "source": [
    "malay_vis = malay_lda.visualize_topics(notebook_mode = False)"
   ]
  },
  {
   "cell_type": "code",
   "execution_count": null,
   "metadata": {},
   "outputs": [],
   "source": [
    "# top 10 malay topics\n",
    "malay_topics = malay_lda.top_topics(5, top_n=10, return_df=True)"
   ]
  },
  {
   "cell_type": "code",
   "execution_count": null,
   "metadata": {},
   "outputs": [],
   "source": [
    "# ensemble\n",
    "output = english.merge(malay, how='outer')\n",
    "output\n",
    "\n",
    "# save to html file for deployment\n",
    "pyLDAvis.save_html(english_vis, 'english_vis.html')\n",
    "pyLDAvis.save_html(malay_vis, 'malay_vis.html')\n",
    "# export dataframe for mobile deployment\n",
    "english_topics\n",
    "malay_topics"
   ]
  }
 ],
 "metadata": {
  "kernelspec": {
   "display_name": "Python 3",
   "language": "python",
   "name": "python3"
  },
  "language_info": {
   "codemirror_mode": {
    "name": "ipython",
    "version": 3
   },
   "file_extension": ".py",
   "mimetype": "text/x-python",
   "name": "python",
   "nbconvert_exporter": "python",
   "pygments_lexer": "ipython3",
   "version": "3.7.3"
  }
 },
 "nbformat": 4,
 "nbformat_minor": 2
}
