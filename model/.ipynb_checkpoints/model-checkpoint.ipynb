{
 "cells": [
  {
   "cell_type": "code",
   "execution_count": 1,
   "metadata": {},
   "outputs": [
    {
     "name": "stderr",
     "output_type": "stream",
     "text": [
      "c:\\users\\user\\anaconda3\\envs\\socionion\\lib\\site-packages\\nltk\\decorators.py:68: DeprecationWarning: `formatargspec` is deprecated since Python 3.5. Use `signature` and the `Signature` object directly\n",
      "  regargs, varargs, varkwargs, defaults, formatvalue=lambda value: \"\"\n"
     ]
    },
    {
     "data": {
      "text/plain": [
       "(713, 31)"
      ]
     },
     "execution_count": 1,
     "metadata": {},
     "output_type": "execute_result"
    }
   ],
   "source": [
    "import pandas as pd\n",
    "import numpy as np\n",
    "import malaya\n",
    "import pyLDAvis\n",
    "from textblob import TextBlob\n",
    "from nltk.corpus import stopwords\n",
    "\n",
    "# import dataset\n",
    "df = pd.read_csv('tweet_concat.csv')\n",
    "#list(df)\n",
    "df.shape"
   ]
  },
  {
   "cell_type": "code",
   "execution_count": 2,
   "metadata": {},
   "outputs": [],
   "source": [
    "# features extraction\n",
    "features = ['created_at','id','user','full_text']\n",
    "data = df[features]\n",
    "data.full_text = data.full_text.astype('str')\n",
    "text = data.full_text\n",
    "text_list = text.values.tolist() # model requires list as input"
   ]
  },
  {
   "cell_type": "code",
   "execution_count": 3,
   "metadata": {},
   "outputs": [
    {
     "data": {
      "text/plain": [
       "ENGLISH      331\n",
       "OTHER        216\n",
       "MALAY        160\n",
       "INDONESIA      6\n",
       "Name: lang, dtype: int64"
      ]
     },
     "execution_count": 3,
     "metadata": {},
     "output_type": "execute_result"
    }
   ],
   "source": [
    "# language detection\n",
    "mn_lang = malaya.language_detection.multinomial()\n",
    "lang = mn_lang.predict_batch(text_list)\n",
    "\n",
    "# add lang column\n",
    "data['lang'] = lang\n",
    "data.lang.value_counts() # ISSUE: model interprets malay as other"
   ]
  },
  {
   "cell_type": "code",
   "execution_count": 4,
   "metadata": {},
   "outputs": [],
   "source": [
    "# separate into english and malay\n",
    "english = data[data['lang'] == 'ENGLISH']\n",
    "english_text = english[['full_text']]\n",
    "english_text_list = english_text.full_text.values.tolist() # model requires list as input\n",
    "\n",
    "# other and indonesia mostly consist of malay based on observation\n",
    "malay = data[data['lang'] != 'ENGLISH']\n",
    "malay_text = malay[['full_text']]\n",
    "malay_text_list = malay_text.full_text.values.tolist() # model requires list as input"
   ]
  },
  {
   "cell_type": "code",
   "execution_count": 5,
   "metadata": {},
   "outputs": [
    {
     "data": {
      "text/plain": [
       "positive    258\n",
       "negative     73\n",
       "Name: sentiment, dtype: int64"
      ]
     },
     "execution_count": 5,
     "metadata": {},
     "output_type": "execute_result"
    }
   ],
   "source": [
    "# sentiment analysis for english\n",
    "english_sentiment = []\n",
    "for tweet in english_text_list:\n",
    "    blob = TextBlob(tweet)\n",
    "    analysis = blob.sentiment\n",
    "    if analysis[0]>=0:\n",
    "        english_sentiment.append('positive')\n",
    "    elif analysis[0]<0:\n",
    "        english_sentiment.append('negative')\n",
    "\n",
    "# add sentiment column\n",
    "english['sentiment'] = english_sentiment\n",
    "english.sentiment.value_counts()"
   ]
  },
  {
   "cell_type": "code",
   "execution_count": 6,
   "metadata": {},
   "outputs": [
    {
     "data": {
      "text/plain": [
       "positive    248\n",
       "negative    134\n",
       "Name: sentiment, dtype: int64"
      ]
     },
     "execution_count": 6,
     "metadata": {},
     "output_type": "execute_result"
    }
   ],
   "source": [
    "# sentiment analysis for malay\n",
    "malay_sentiment_xgb = malaya.sentiment.xgb()\n",
    "malay_sentiment = malay_sentiment_xgb.predict_batch(malay_text_list) # get_proba=True\n",
    "\n",
    "# add sentiment column\n",
    "malay['sentiment'] = malay_sentiment\n",
    "malay.sentiment.value_counts()"
   ]
  },
  {
   "cell_type": "code",
   "execution_count": 7,
   "metadata": {},
   "outputs": [],
   "source": [
    "# topic modeling for english\n",
    "lda = malaya.topic_model.lda(english_text_list,10,stemming=False,vectorizer='skip-gram',ngram=(1,4),skip=3,stop_words=stopwords.words('english'))"
   ]
  },
  {
   "cell_type": "code",
   "execution_count": 8,
   "metadata": {
    "scrolled": true
   },
   "outputs": [],
   "source": [
    "prepared_data = lda.visualize_topics(notebook_mode = True)"
   ]
  },
  {
   "cell_type": "code",
   "execution_count": 10,
   "metadata": {},
   "outputs": [],
   "source": [
    "pyLDAvis.save_html(prepared_data, 'pylda.html')"
   ]
  },
  {
   "cell_type": "code",
   "execution_count": null,
   "metadata": {
    "scrolled": true
   },
   "outputs": [],
   "source": [
    "# topic modeling for malay\n",
    "lda2vec = malaya.topic_model.lda(malay_text_list,10,stemming=False,vectorizer='skip-gram',ngram=(1,4),skip=3)"
   ]
  },
  {
   "cell_type": "code",
   "execution_count": null,
   "metadata": {
    "scrolled": true
   },
   "outputs": [],
   "source": [
    "lda2vec.visualize_topics(notebook_mode = True)"
   ]
  },
  {
   "cell_type": "code",
   "execution_count": null,
   "metadata": {},
   "outputs": [],
   "source": [
    "# ensemble\n",
    "output = english.merge(malay, how='outer')\n",
    "output"
   ]
  }
 ],
 "metadata": {
  "kernelspec": {
   "display_name": "Python 3",
   "language": "python",
   "name": "python3"
  },
  "language_info": {
   "codemirror_mode": {
    "name": "ipython",
    "version": 3
   },
   "file_extension": ".py",
   "mimetype": "text/x-python",
   "name": "python",
   "nbconvert_exporter": "python",
   "pygments_lexer": "ipython3",
   "version": "3.7.2"
  }
 },
 "nbformat": 4,
 "nbformat_minor": 2
}
