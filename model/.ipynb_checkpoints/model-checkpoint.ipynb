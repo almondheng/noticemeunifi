{
 "cells": [
  {
   "cell_type": "code",
   "execution_count": 2,
   "metadata": {},
   "outputs": [
    {
     "name": "stderr",
     "output_type": "stream",
     "text": [
      "c:\\users\\user\\anaconda3\\envs\\socionion\\lib\\site-packages\\nltk\\decorators.py:68: DeprecationWarning: `formatargspec` is deprecated since Python 3.5. Use `signature` and the `Signature` object directly\n",
      "  regargs, varargs, varkwargs, defaults, formatvalue=lambda value: \"\"\n"
     ]
    },
    {
     "data": {
      "text/plain": [
       "(713, 31)"
      ]
     },
     "execution_count": 2,
     "metadata": {},
     "output_type": "execute_result"
    }
   ],
   "source": [
    "import pandas as pd\n",
    "import numpy as np\n",
    "import malaya\n",
    "import pyLDAvis\n",
    "from textblob import TextBlob\n",
    "\n",
    "# import dataset\n",
    "df = pd.read_csv('tweet_concat.csv')\n",
    "#list(df)\n",
    "df.shape"
   ]
  },
  {
   "cell_type": "code",
   "execution_count": 3,
   "metadata": {},
   "outputs": [],
   "source": [
    "# features extraction\n",
    "features = ['created_at','id','user','full_text']\n",
    "data = df[features]\n",
    "data.full_text = data.full_text.astype('str')\n",
    "text = data.full_text\n",
    "text_list = text.values.tolist() # model requires list as input"
   ]
  },
  {
   "cell_type": "code",
   "execution_count": 4,
   "metadata": {},
   "outputs": [
    {
     "data": {
      "text/plain": [
       "ENGLISH      331\n",
       "OTHER        216\n",
       "MALAY        160\n",
       "INDONESIA      6\n",
       "Name: lang, dtype: int64"
      ]
     },
     "execution_count": 4,
     "metadata": {},
     "output_type": "execute_result"
    }
   ],
   "source": [
    "# language detection\n",
    "mn_lang = malaya.language_detection.multinomial()\n",
    "lang = mn_lang.predict_batch(text_list)\n",
    "\n",
    "# add lang column\n",
    "data['lang'] = lang\n",
    "data.lang.value_counts() # ISSUE: model interprets malay as other"
   ]
  },
  {
   "cell_type": "code",
   "execution_count": 5,
   "metadata": {},
   "outputs": [],
   "source": [
    "# separate into english and malay\n",
    "english = data[data['lang'] == 'ENGLISH']\n",
    "english_text = english[['full_text']]\n",
    "english_text_list = english_text.full_text.values.tolist() # model requires list as input\n",
    "\n",
    "# other and indonesia mostly consist of malay based on observation\n",
    "malay = data[data['lang'] != 'ENGLISH']\n",
    "malay_text = malay[['full_text']]\n",
    "malay_text_list = malay_text.full_text.values.tolist() # model requires list as input"
   ]
  },
  {
   "cell_type": "code",
   "execution_count": 10,
   "metadata": {},
   "outputs": [
    {
     "data": {
      "text/plain": [
       "positive    135\n",
       "neutral     123\n",
       "negative     73\n",
       "Name: sentiment, dtype: int64"
      ]
     },
     "execution_count": 10,
     "metadata": {},
     "output_type": "execute_result"
    }
   ],
   "source": [
    "# sentiment analysis and subjectivity analysis for english\n",
    "english_sentiment = []\n",
    "english_subjectivity = []\n",
    "\n",
    "for tweet in english_text_list:\n",
    "    blob = TextBlob(tweet)\n",
    "    analysis = blob.sentiment\n",
    "    sentiment = analysis[0]\n",
    "    subject = analysis[1]\n",
    "    # scale of -1 to 1\n",
    "    if sentiment>0:\n",
    "        english_sentiment.append('positive')\n",
    "    elif sentiment<0:\n",
    "        english_sentiment.append('negative')\n",
    "    else:\n",
    "        english_sentiment.append('neutral')\n",
    "    # scale of 0 to 1\n",
    "    if subject>0.6:\n",
    "        english_subjectivity.append('subjective')\n",
    "    elif subject<0.4:\n",
    "        english_subjectivity.append('objective')\n",
    "    else:\n",
    "        english_subjectivity.append('mixed')\n",
    "    \n",
    "# add sentiment and subjectivity column\n",
    "english['sentiment'] = english_sentiment\n",
    "english['subjectivity'] = english_subjectivity\n",
    "english.sentiment.value_counts()"
   ]
  },
  {
   "cell_type": "code",
   "execution_count": 20,
   "metadata": {},
   "outputs": [
    {
     "data": {
      "text/plain": [
       "objective     172\n",
       "mixed          88\n",
       "subjective     71\n",
       "Name: subjectivity, dtype: int64"
      ]
     },
     "execution_count": 20,
     "metadata": {},
     "output_type": "execute_result"
    }
   ],
   "source": [
    "english.subjectivity.value_counts()"
   ]
  },
  {
   "cell_type": "code",
   "execution_count": 19,
   "metadata": {},
   "outputs": [
    {
     "data": {
      "text/plain": [
       "Positive    222\n",
       "Negative    115\n",
       "Neutral      45\n",
       "Name: sentiment, dtype: int64"
      ]
     },
     "execution_count": 19,
     "metadata": {},
     "output_type": "execute_result"
    }
   ],
   "source": [
    "# sentiment analysis for malay\n",
    "malay_sentiment_xgb = malaya.sentiment.xgb()\n",
    "malay_sentiment = malay_sentiment_xgb.predict_batch(malay_text_list, get_proba=True) # get_proba=True\n",
    "\n",
    "# create list of sentiments(positive/negative/neutral)\n",
    "my_sentiment = []\n",
    "for item in malay_sentiment:\n",
    "    if item['negative'] > 0.45 and item['negative'] < 0.55:\n",
    "        my_sentiment.append(\"Neutral\")\n",
    "    elif item['negative'] > item['positive']:\n",
    "        my_sentiment.append(\"Negative\")\n",
    "    else:\n",
    "        my_sentiment.append(\"Positive\")\n",
    "my_sentiment\n",
    "\n",
    "# add sentiment column\n",
    "malay['sentiment'] = my_sentiment\n",
    "malay.sentiment.value_counts()"
   ]
  },
  {
   "cell_type": "code",
   "execution_count": null,
   "metadata": {},
   "outputs": [],
   "source": [
    "# topic modeling for english\n",
    "stopwords_eng = ['i', 'me', 'my', 'myself', 'we', 'our', 'ours', 'ourselves', 'you', \"you're\", \"you've\", \"you'll\", \"you'd\", 'your', 'yours', 'yourself', 'yourselves', 'he', 'him', 'his', 'himself', 'she', \"she's\", 'her', 'hers', 'herself', 'it', \"it's\", 'its', 'itself', 'they', 'them', 'their', 'theirs', 'themselves', 'what', 'which', 'who', 'whom', 'this', 'that', \"that'll\", 'these', 'those', 'am', 'is', 'are', 'was', 'were', 'be', 'been', 'being', 'have', 'has', 'had', 'having', 'do', 'does', 'did', 'doing', 'a', 'an', 'the', 'and', 'but', 'if', 'or', 'because', 'as', 'until', 'while', 'of', 'at', 'by', 'for', 'with', 'about', 'against', 'between', 'into', 'through', 'during', 'before', 'after', 'above', 'below', 'to', 'from', 'up', 'down', 'in', 'out', 'on', 'off', 'over', 'under', 'again', 'further', 'then', 'once', 'here', 'there', 'when', 'where', 'why', 'how', 'all', 'any', 'both', 'each', 'few', 'more', 'most', 'other', 'some', 'such', 'no', 'nor', 'not', 'only', 'own', 'same', 'so', 'than', 'too', 'very', 's', 't', 'can', 'will', 'just', 'don', \"don't\", 'should', \"should've\", 'now', 'd', 'll', 'm', 'o', 're', 've', 'y', 'ain', 'aren', \"aren't\", 'couldn', \"couldn't\", 'didn', \"didn't\", 'doesn', \"doesn't\", 'hadn', \"hadn't\", 'hasn', \"hasn't\", 'haven', \"haven't\", 'isn', \"isn't\", 'ma', 'mightn', \"mightn't\", 'mustn', \"mustn't\", 'needn', \"needn't\", 'shan', \"shan't\", 'shouldn', \"shouldn't\", 'wasn', \"wasn't\", 'weren', \"weren't\", 'won', \"won't\", 'wouldn', \"wouldn't\"]\n",
    "english_lda = malaya.topic_model.lda(english_text_list,10,stemming=False,vectorizer='skip-gram',ngram=(1,4),skip=3,stop_words=stopwords_eng)"
   ]
  },
  {
   "cell_type": "code",
   "execution_count": null,
   "metadata": {
    "scrolled": true
   },
   "outputs": [],
   "source": [
    "# return embeded visualization data\n",
    "english_vis = english_lda.visualize_topics(notebook_mode = False)"
   ]
  },
  {
   "cell_type": "code",
   "execution_count": 22,
   "metadata": {
    "scrolled": true
   },
   "outputs": [],
   "source": [
    "# topic modeling for malay\n",
    "malay_lda = malaya.topic_model.lda(malay_text_list,10,stemming=False,vectorizer='skip-gram',ngram=(1,4),skip=3)"
   ]
  },
  {
   "cell_type": "code",
   "execution_count": null,
   "metadata": {
    "scrolled": true
   },
   "outputs": [],
   "source": [
    "malay_vis = malay_lda.visualize_topics(notebook_mode = False)"
   ]
  },
  {
   "cell_type": "code",
   "execution_count": 28,
   "metadata": {},
   "outputs": [],
   "source": [
    "malay_topics = malay_lda.top_topics(5, top_n=10, return_df=True)"
   ]
  },
  {
   "cell_type": "code",
   "execution_count": 25,
   "metadata": {},
   "outputs": [
    {
     "ename": "NameError",
     "evalue": "name 'english_vis' is not defined",
     "output_type": "error",
     "traceback": [
      "\u001b[1;31m---------------------------------------------------------------------------\u001b[0m",
      "\u001b[1;31mNameError\u001b[0m                                 Traceback (most recent call last)",
      "\u001b[1;32m<ipython-input-25-b80d5fec3233>\u001b[0m in \u001b[0;36m<module>\u001b[1;34m\u001b[0m\n\u001b[0;32m      4\u001b[0m \u001b[1;33m\u001b[0m\u001b[0m\n\u001b[0;32m      5\u001b[0m \u001b[1;31m# save to html file for deployment\u001b[0m\u001b[1;33m\u001b[0m\u001b[1;33m\u001b[0m\u001b[1;33m\u001b[0m\u001b[0m\n\u001b[1;32m----> 6\u001b[1;33m \u001b[0mpyLDAvis\u001b[0m\u001b[1;33m.\u001b[0m\u001b[0msave_html\u001b[0m\u001b[1;33m(\u001b[0m\u001b[0menglish_vis\u001b[0m\u001b[1;33m,\u001b[0m \u001b[1;34m'english_vis.html'\u001b[0m\u001b[1;33m)\u001b[0m\u001b[1;33m\u001b[0m\u001b[1;33m\u001b[0m\u001b[0m\n\u001b[0m\u001b[0;32m      7\u001b[0m \u001b[0mpyLDAvis\u001b[0m\u001b[1;33m.\u001b[0m\u001b[0msave_html\u001b[0m\u001b[1;33m(\u001b[0m\u001b[0mmalay_vis\u001b[0m\u001b[1;33m,\u001b[0m \u001b[1;34m'malay_vis.html'\u001b[0m\u001b[1;33m)\u001b[0m\u001b[1;33m\u001b[0m\u001b[1;33m\u001b[0m\u001b[0m\n",
      "\u001b[1;31mNameError\u001b[0m: name 'english_vis' is not defined"
     ]
    }
   ],
   "source": [
    "# ensemble\n",
    "output = english.merge(malay, how='outer')\n",
    "output\n",
    "\n",
    "# save to html file for deployment\n",
    "pyLDAvis.save_html(english_vis, 'english_vis.html')\n",
    "pyLDAvis.save_html(malay_vis, 'malay_vis.html')\n",
    "# export dataframe for mobile deployment\n",
    "malay_topics"
   ]
  }
 ],
 "metadata": {
  "kernelspec": {
   "display_name": "Python 3",
   "language": "python",
   "name": "python3"
  },
  "language_info": {
   "codemirror_mode": {
    "name": "ipython",
    "version": 3
   },
   "file_extension": ".py",
   "mimetype": "text/x-python",
   "name": "python",
   "nbconvert_exporter": "python",
   "pygments_lexer": "ipython3",
   "version": "3.7.3"
  }
 },
 "nbformat": 4,
 "nbformat_minor": 2
}
